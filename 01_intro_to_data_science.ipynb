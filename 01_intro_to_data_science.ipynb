{
 "cells": [
  {
   "cell_type": "markdown",
   "metadata": {},
   "source": [
    "# Introduction to Data Science (Intern Level)\n",
    "\n",
    "**File:** `01_intro_to_data_science.ipynb` — a compact, runnable notebook introducing core DS concepts, lifecycle, roles, ethics, and a short hands-on demo.\n",
    "\n",
    "**How to use:** Run cells top-to-bottom. The notebook uses small toy datasets and common libraries.\n"
   ]
  },
  {
   "cell_type": "markdown",
   "metadata": {},
   "source": [
    "---\n",
    "## 0) Setup: install / import and reproducibility\n",
    "Run this cell first. It will try to import libraries and pip-install any missing ones."
   ]
  },
  {
   "cell_type": "code",
   "execution_count": 1,
   "metadata": {},
   "outputs": [
    {
     "name": "stdout",
     "output_type": "stream",
     "text": [
      "Installing matplotlib...\n",
      "Installing seaborn...\n",
      "Installing scikit-learn...\n",
      "Setup complete — ready to run the notebook (seed= 42 )\n"
     ]
    }
   ],
   "source": [
    "# Setup: install imports and seed\n",
    "import sys\n",
    "from importlib import util\n",
    "def ensure(pkg):\n",
    "    if util.find_spec(pkg) is None:\n",
    "        print(f'Installing {pkg}...')\n",
    "        import subprocess\n",
    "        subprocess.check_call([sys.executable, '-m', 'pip', 'install', pkg])\n",
    "\n",
    "# Keep dependencies minimal and common\n",
    "for p in ('numpy','pandas','matplotlib','seaborn','scikit-learn'):\n",
    "    ensure(p)\n",
    "\n",
    "# imports\n",
    "import numpy as np\n",
    "import pandas as pd\n",
    "import matplotlib.pyplot as plt\n",
    "import seaborn as sns\n",
    "from sklearn.model_selection import train_test_split\n",
    "from sklearn.linear_model import LogisticRegression\n",
    "from sklearn.metrics import accuracy_score, classification_report, confusion_matrix\n",
    "\n",
    "# plotting defaults and reproducibility\n",
    "RANDOM_SEED = 42\n",
    "np.random.seed(RANDOM_SEED)\n",
    "plt.rcParams.update({'figure.figsize': (6,4), 'font.size': 10})\n",
    "sns.set()\n",
    "print('Setup complete — ready to run the notebook (seed=', RANDOM_SEED, ')')\n"
   ]
  },
  {
   "cell_type": "markdown",
   "metadata": {},
   "source": [
    "---\n",
    "## A) What is Data Science?\n",
    "\n",
    "**Definition (short):** Data Science is the process of extracting insights and building data-driven products from data using statistics, engineering, and domain knowledge.\n",
    "\n",
    "**Example applications:** recommendation systems, fraud detection, demand forecasting, medical diagnosis, and customer segmentation.\n",
    "\n",
    "**Typical workflow outcomes:** descriptive reports, predictive models, visualizations, dashboards, or automated ML services.\n",
    "\n",
    "*References:* CRISP-DM framework (industry classic) — https://en.wikipedia.org/wiki/CRISP-DM\n"
   ]
  },
  {
   "cell_type": "markdown",
   "metadata": {},
   "source": [
    "---\n",
    "## B) Data Science Lifecycle (CRISP-DM style)\n",
    "\n",
    "Below we list main phases. For each: purpose, key questions, artifacts, pitfalls.\n"
   ]
  },
  {
   "cell_type": "markdown",
   "metadata": {},
   "source": [
    "### 1) Business / Problem Understanding\n",
    "**Purpose:** define goals and success metrics.\n",
    "**Key questions:** What problem are we solving? Who are stakeholders? What is success (KPIs)?\n",
    "**Artifacts:** project brief, success metric, constraints, timeline.\n",
    "**Common pitfalls:** vague objectives, moving targets, ignoring feasibility.\n"
   ]
  },
  {
   "cell_type": "markdown",
   "metadata": {},
   "source": [
    "### 2) Data Understanding\n",
    "**Purpose:** collect and explore data to assess suitability.\n",
    "**Key questions:** What data exists? Is it complete? Biased? Timely?\n",
    "**Artifacts:** data samples, EDA plots, data dictionary.\n",
    "**Common pitfalls:** small samples, hidden biases, poor documentation.\n"
   ]
  },
  {
   "cell_type": "markdown",
   "metadata": {},
   "source": [
    "### 3) Data Preparation\n",
    "**Purpose:** clean, normalize, feature-engineer, and split data.\n",
    "**Key questions:** How to handle missing values? Which features to create or drop?\n",
    "**Artifacts:** cleaned dataset, feature definitions, pipelines.\n",
    "**Common pitfalls:** leakage, overfitting via leakage, inconsistent transformations.\n"
   ]
  },
  {
   "cell_type": "markdown",
   "metadata": {},
   "source": [
    "### 4) Modeling\n",
    "**Purpose:** train models to predict or extract patterns.\n",
    "**Key questions:** Which algorithm suits the problem? How to tune hyperparameters?\n",
    "**Artifacts:** trained model, hyperparameter logs.\n",
    "**Common pitfalls:** overfitting, ignoring baseline models, poor cross-validation.\n"
   ]
  },
  {
   "cell_type": "markdown",
   "metadata": {},
   "source": [
    "### 5) Evaluation\n",
    "**Purpose:** measure performance against business metrics using appropriate data.\n",
    "**Key questions:** Are metrics aligned with business goals? Are results statistically significant?\n",
    "**Artifacts:** evaluation report, confusion matrices, error analysis.\n",
    "**Common pitfalls:** wrong metrics, test data leakage, ignoring slices where model fails.\n"
   ]
  },
  {
   "cell_type": "markdown",
   "metadata": {},
   "source": [
    "### 6) Deployment & Monitoring\n",
    "**Purpose:** put models into production and keep them healthy.\n",
    "**Key questions:** How to serve the model? How to monitor data drift and performance?\n",
    "**Artifacts:** serving API, monitoring dashboard, retraining plan.\n",
    "**Common pitfalls:** lack of monitoring, brittle pipelines, no rollback plan.\n"
   ]
  },
  {
   "cell_type": "markdown",
   "metadata": {},
   "source": [
    "---\n",
    "## C) Roles in Data Teams\n",
    "A short mapping of common roles and typical handoffs.\n"
   ]
  },
  {
   "cell_type": "markdown",
   "metadata": {},
   "source": [
    "**Data Scientist** — builds models, experiments, and communicates results. Tools: Python, scikit-learn, pandas, Jupyter.\n",
    "**Data Analyst** — explores data, creates dashboards, performs reporting. Tools: SQL, Excel, Tableau, pandas.\n",
    "**Data Engineer** — builds data pipelines, ETL/ELT, ensures data quality. Tools: SQL, Airflow, Spark, Kafka.\n",
    "**ML Engineer** — productionizes models, serves and monitors them. Tools: Docker, Kubernetes, TF/ONNX, CI/CD.\n",
    "**Product Manager / Domain Expert** — defines business needs, interprets results, prioritizes features.\n"
   ]
  },
  {
   "cell_type": "markdown",
   "metadata": {},
   "source": [
    "---\n",
    "## D) Ethics & Bias (foundations)\n",
    "\n",
    "**Common bias types:**\n",
    "- Sampling bias: training data isn't representative.\n",
    "- Label bias: labels reflect historical or subjective decisions.\n",
    "- Measurement bias: instruments or sensors introduce errors.\n",
    "- Historical bias: past unfair patterns embedded in data.\n",
    "\n",
    "**Principles:** fairness, privacy, transparency, and accountability.\n",
    "**Mitigation strategies (brief):** data auditing, collecting more diverse data, careful feature selection, fairness-aware metrics, differential privacy and access controls, documentation (datasheets/model cards).\n",
    "\n",
    "Further reading:\n",
    "- Model Cards: https://arxiv.org/abs/1810.03993\n",
    "- Datasheets for Datasets: https://arxiv.org/abs/1803.09010\n"
   ]
  },
  {
   "cell_type": "markdown",
   "metadata": {},
   "source": [
    "---\n",
    "## Mini Demo — classic small dataset (Iris)\n",
    "We'll load sklearn's iris dataset, perform quick EDA, train a simple logistic regression, and evaluate it. Keep code commented and concise."
   ]
  },
  {
   "cell_type": "code",
   "execution_count": 4,
   "metadata": {},
   "outputs": [
    {
     "name": "stdout",
     "output_type": "stream",
     "text": [
      "Dataset shape: (150, 4)\n",
      "Columns: ['sepal length (cm)', 'sepal width (cm)', 'petal length (cm)', 'petal width (cm)']\n",
      "Sample:\n"
     ]
    },
    {
     "data": {
      "application/vnd.microsoft.datawrangler.viewer.v0+json": {
       "columns": [
        {
         "name": "index",
         "rawType": "int64",
         "type": "integer"
        },
        {
         "name": "sepal length (cm)",
         "rawType": "float64",
         "type": "float"
        },
        {
         "name": "sepal width (cm)",
         "rawType": "float64",
         "type": "float"
        },
        {
         "name": "petal length (cm)",
         "rawType": "float64",
         "type": "float"
        },
        {
         "name": "petal width (cm)",
         "rawType": "float64",
         "type": "float"
        }
       ],
       "ref": "a3ac5862-87f4-472f-ab3b-4fd8014db056",
       "rows": [
        [
         "0",
         "5.1",
         "3.5",
         "1.4",
         "0.2"
        ],
        [
         "1",
         "4.9",
         "3.0",
         "1.4",
         "0.2"
        ],
        [
         "2",
         "4.7",
         "3.2",
         "1.3",
         "0.2"
        ],
        [
         "3",
         "4.6",
         "3.1",
         "1.5",
         "0.2"
        ],
        [
         "4",
         "5.0",
         "3.6",
         "1.4",
         "0.2"
        ]
       ],
       "shape": {
        "columns": 4,
        "rows": 5
       }
      },
      "text/html": [
       "<div>\n",
       "<style scoped>\n",
       "    .dataframe tbody tr th:only-of-type {\n",
       "        vertical-align: middle;\n",
       "    }\n",
       "\n",
       "    .dataframe tbody tr th {\n",
       "        vertical-align: top;\n",
       "    }\n",
       "\n",
       "    .dataframe thead th {\n",
       "        text-align: right;\n",
       "    }\n",
       "</style>\n",
       "<table border=\"1\" class=\"dataframe\">\n",
       "  <thead>\n",
       "    <tr style=\"text-align: right;\">\n",
       "      <th></th>\n",
       "      <th>sepal length (cm)</th>\n",
       "      <th>sepal width (cm)</th>\n",
       "      <th>petal length (cm)</th>\n",
       "      <th>petal width (cm)</th>\n",
       "    </tr>\n",
       "  </thead>\n",
       "  <tbody>\n",
       "    <tr>\n",
       "      <th>0</th>\n",
       "      <td>5.1</td>\n",
       "      <td>3.5</td>\n",
       "      <td>1.4</td>\n",
       "      <td>0.2</td>\n",
       "    </tr>\n",
       "    <tr>\n",
       "      <th>1</th>\n",
       "      <td>4.9</td>\n",
       "      <td>3.0</td>\n",
       "      <td>1.4</td>\n",
       "      <td>0.2</td>\n",
       "    </tr>\n",
       "    <tr>\n",
       "      <th>2</th>\n",
       "      <td>4.7</td>\n",
       "      <td>3.2</td>\n",
       "      <td>1.3</td>\n",
       "      <td>0.2</td>\n",
       "    </tr>\n",
       "    <tr>\n",
       "      <th>3</th>\n",
       "      <td>4.6</td>\n",
       "      <td>3.1</td>\n",
       "      <td>1.5</td>\n",
       "      <td>0.2</td>\n",
       "    </tr>\n",
       "    <tr>\n",
       "      <th>4</th>\n",
       "      <td>5.0</td>\n",
       "      <td>3.6</td>\n",
       "      <td>1.4</td>\n",
       "      <td>0.2</td>\n",
       "    </tr>\n",
       "  </tbody>\n",
       "</table>\n",
       "</div>"
      ],
      "text/plain": [
       "   sepal length (cm)  sepal width (cm)  petal length (cm)  petal width (cm)\n",
       "0                5.1               3.5                1.4               0.2\n",
       "1                4.9               3.0                1.4               0.2\n",
       "2                4.7               3.2                1.3               0.2\n",
       "3                4.6               3.1                1.5               0.2\n",
       "4                5.0               3.6                1.4               0.2"
      ]
     },
     "execution_count": 4,
     "metadata": {},
     "output_type": "execute_result"
    }
   ],
   "source": [
    "from sklearn import datasets\n",
    "iris = datasets.load_iris(as_frame=True)\n",
    "X = iris.frame.drop(columns=['target'])\n",
    "y = iris.frame['target']\n",
    "print('Dataset shape:', X.shape)\n",
    "print('Columns:', list(X.columns))\n",
    "print('Sample:')\n",
    "X.head()\n"
   ]
  },
  {
   "cell_type": "markdown",
   "metadata": {},
   "source": [
    "### Quick exploratory data analysis (EDA)\n",
    "Show summary statistics, check for nulls, and a couple of simple plots."
   ]
  },
  {
   "cell_type": "code",
   "execution_count": 6,
   "metadata": {},
   "outputs": [
    {
     "data": {
      "application/vnd.microsoft.datawrangler.viewer.v0+json": {
       "columns": [
        {
         "name": "index",
         "rawType": "object",
         "type": "string"
        },
        {
         "name": "sepal length (cm)",
         "rawType": "float64",
         "type": "float"
        },
        {
         "name": "sepal width (cm)",
         "rawType": "float64",
         "type": "float"
        },
        {
         "name": "petal length (cm)",
         "rawType": "float64",
         "type": "float"
        },
        {
         "name": "petal width (cm)",
         "rawType": "float64",
         "type": "float"
        }
       ],
       "ref": "016e6b6f-73c3-4456-93d5-7c049d0abd35",
       "rows": [
        [
         "count",
         "150.0",
         "150.0",
         "150.0",
         "150.0"
        ],
        [
         "mean",
         "5.843333333333334",
         "3.0573333333333337",
         "3.7580000000000005",
         "1.1993333333333336"
        ],
        [
         "std",
         "0.828066127977863",
         "0.4358662849366982",
         "1.7652982332594662",
         "0.7622376689603465"
        ],
        [
         "min",
         "4.3",
         "2.0",
         "1.0",
         "0.1"
        ],
        [
         "25%",
         "5.1",
         "2.8",
         "1.6",
         "0.3"
        ],
        [
         "50%",
         "5.8",
         "3.0",
         "4.35",
         "1.3"
        ],
        [
         "75%",
         "6.4",
         "3.3",
         "5.1",
         "1.8"
        ],
        [
         "max",
         "7.9",
         "4.4",
         "6.9",
         "2.5"
        ]
       ],
       "shape": {
        "columns": 4,
        "rows": 8
       }
      },
      "text/html": [
       "<div>\n",
       "<style scoped>\n",
       "    .dataframe tbody tr th:only-of-type {\n",
       "        vertical-align: middle;\n",
       "    }\n",
       "\n",
       "    .dataframe tbody tr th {\n",
       "        vertical-align: top;\n",
       "    }\n",
       "\n",
       "    .dataframe thead th {\n",
       "        text-align: right;\n",
       "    }\n",
       "</style>\n",
       "<table border=\"1\" class=\"dataframe\">\n",
       "  <thead>\n",
       "    <tr style=\"text-align: right;\">\n",
       "      <th></th>\n",
       "      <th>sepal length (cm)</th>\n",
       "      <th>sepal width (cm)</th>\n",
       "      <th>petal length (cm)</th>\n",
       "      <th>petal width (cm)</th>\n",
       "    </tr>\n",
       "  </thead>\n",
       "  <tbody>\n",
       "    <tr>\n",
       "      <th>count</th>\n",
       "      <td>150.000000</td>\n",
       "      <td>150.000000</td>\n",
       "      <td>150.000000</td>\n",
       "      <td>150.000000</td>\n",
       "    </tr>\n",
       "    <tr>\n",
       "      <th>mean</th>\n",
       "      <td>5.843333</td>\n",
       "      <td>3.057333</td>\n",
       "      <td>3.758000</td>\n",
       "      <td>1.199333</td>\n",
       "    </tr>\n",
       "    <tr>\n",
       "      <th>std</th>\n",
       "      <td>0.828066</td>\n",
       "      <td>0.435866</td>\n",
       "      <td>1.765298</td>\n",
       "      <td>0.762238</td>\n",
       "    </tr>\n",
       "    <tr>\n",
       "      <th>min</th>\n",
       "      <td>4.300000</td>\n",
       "      <td>2.000000</td>\n",
       "      <td>1.000000</td>\n",
       "      <td>0.100000</td>\n",
       "    </tr>\n",
       "    <tr>\n",
       "      <th>25%</th>\n",
       "      <td>5.100000</td>\n",
       "      <td>2.800000</td>\n",
       "      <td>1.600000</td>\n",
       "      <td>0.300000</td>\n",
       "    </tr>\n",
       "    <tr>\n",
       "      <th>50%</th>\n",
       "      <td>5.800000</td>\n",
       "      <td>3.000000</td>\n",
       "      <td>4.350000</td>\n",
       "      <td>1.300000</td>\n",
       "    </tr>\n",
       "    <tr>\n",
       "      <th>75%</th>\n",
       "      <td>6.400000</td>\n",
       "      <td>3.300000</td>\n",
       "      <td>5.100000</td>\n",
       "      <td>1.800000</td>\n",
       "    </tr>\n",
       "    <tr>\n",
       "      <th>max</th>\n",
       "      <td>7.900000</td>\n",
       "      <td>4.400000</td>\n",
       "      <td>6.900000</td>\n",
       "      <td>2.500000</td>\n",
       "    </tr>\n",
       "  </tbody>\n",
       "</table>\n",
       "</div>"
      ],
      "text/plain": [
       "       sepal length (cm)  sepal width (cm)  petal length (cm)  \\\n",
       "count         150.000000        150.000000         150.000000   \n",
       "mean            5.843333          3.057333           3.758000   \n",
       "std             0.828066          0.435866           1.765298   \n",
       "min             4.300000          2.000000           1.000000   \n",
       "25%             5.100000          2.800000           1.600000   \n",
       "50%             5.800000          3.000000           4.350000   \n",
       "75%             6.400000          3.300000           5.100000   \n",
       "max             7.900000          4.400000           6.900000   \n",
       "\n",
       "       petal width (cm)  \n",
       "count        150.000000  \n",
       "mean           1.199333  \n",
       "std            0.762238  \n",
       "min            0.100000  \n",
       "25%            0.300000  \n",
       "50%            1.300000  \n",
       "75%            1.800000  \n",
       "max            2.500000  "
      ]
     },
     "metadata": {},
     "output_type": "display_data"
    },
    {
     "name": "stdout",
     "output_type": "stream",
     "text": [
      "Nulls per column:\n",
      "sepal length (cm)    0\n",
      "sepal width (cm)     0\n",
      "petal length (cm)    0\n",
      "petal width (cm)     0\n",
      "dtype: int64\n"
     ]
    }
   ],
   "source": [
    "# Summary statistics & null checks\n",
    "display(X.describe())\n",
    "print('Nulls per column:')\n",
    "print(X.isnull().sum())\n"
   ]
  },
  {
   "cell_type": "code",
   "execution_count": 7,
   "metadata": {},
   "outputs": [
    {
     "data": {
      "image/png": "[encoded data removed]",
      "text/plain": [
       "<Figure size 600x400 with 1 Axes>"
      ]
     },
     "metadata": {},
     "output_type": "display_data"
    }
   ],
   "source": [
    "# Visualization 1: scatter of two features colored by class\n",
    "plt.figure()\n",
    "sns.scatterplot(data=iris.frame, x='sepal length (cm)', y='sepal width (cm)', hue='target', palette='deep')\n",
    "plt.title('Sepal length vs width (colored by class)')\n",
    "plt.legend(title='class')\n",
    "plt.show()\n"
   ]
  },
  {
   "cell_type": "code",
   "execution_count": 8,
   "metadata": {},
   "outputs": [
    {
     "data": {
      "image/png": "[encoded data removed]",
      "text/plain": [
       "<Figure size 600x400 with 1 Axes>"
      ]
     },
     "metadata": {},
     "output_type": "display_data"
    }
   ],
   "source": [
    "# Visualization 2: histogram of petal length\n",
    "plt.figure()\n",
    "sns.histplot(iris.frame, x='petal length (cm)', hue='target', multiple='stack')\n",
    "plt.title('Distribution of petal length by class')\n",
    "plt.show()\n"
   ]
  },
  {
   "cell_type": "markdown",
   "metadata": {},
   "source": [
    "### Baseline model: Logistic Regression (simple)\n",
    "We'll train a quick model using a train/test split and report accuracy + classification report."
   ]
  },
  {
   "cell_type": "code",
   "execution_count": 9,
   "metadata": {},
   "outputs": [
    {
     "name": "stdout",
     "output_type": "stream",
     "text": [
      "Train shape: (120, 4) Test shape: (30, 4)\n",
      "Accuracy (test): 0.967\n",
      "Classification report:\n",
      "              precision    recall  f1-score   support\n",
      "\n",
      "           0      1.000     1.000     1.000        10\n",
      "           1      1.000     0.900     0.947        10\n",
      "           2      0.909     1.000     0.952        10\n",
      "\n",
      "    accuracy                          0.967        30\n",
      "   macro avg      0.970     0.967     0.967        30\n",
      "weighted avg      0.970     0.967     0.967        30\n",
      "\n"
     ]
    }
   ],
   "source": [
    "# Train/test split\n",
    "X_train, X_test, y_train, y_test = train_test_split(X, y, test_size=0.2, random_state=RANDOM_SEED, stratify=y)\n",
    "print('Train shape:', X_train.shape, 'Test shape:', X_test.shape)\n",
    "\n",
    "# Fit a baseline logistic regression\n",
    "model = LogisticRegression(max_iter=200, random_state=RANDOM_SEED)\n",
    "model.fit(X_train, y_train)\n",
    "y_pred = model.predict(X_test)\n",
    "acc = accuracy_score(y_test, y_pred)\n",
    "print(f'Accuracy (test): {acc:.3f}')\n",
    "print('Classification report:')\n",
    "print(classification_report(y_test, y_pred, digits=3))\n"
   ]
  },
  {
   "cell_type": "code",
   "execution_count": 10,
   "metadata": {},
   "outputs": [
    {
     "data": {
      "image/png": "[encoded data removed]",
      "text/plain": [
       "<Figure size 600x400 with 2 Axes>"
      ]
     },
     "metadata": {},
     "output_type": "display_data"
    }
   ],
   "source": [
    "# Confusion matrix visualization to inspect errors\n",
    "cm = confusion_matrix(y_test, y_pred)\n",
    "plt.figure()\n",
    "sns.heatmap(cm, annot=True, fmt='d', cmap='Blues')\n",
    "plt.xlabel('Predicted')\n",
    "plt.ylabel('True')\n",
    "plt.title('Confusion Matrix')\n",
    "plt.show()\n"
   ]
  },
  {
   "cell_type": "markdown",
   "metadata": {},
   "source": [
    "### Short reflection on limitations & potential biases\n",
    "- Iris is tiny and clean — real data is messier.\n",
    "- Classes are well-separated; metrics will be optimistic compared to noisy real tasks.\n",
    "- Potential biases: dataset may not represent real-world population (sampling bias), labels come from old taxonomy (label bias).\n",
    "- For production: consider cross-validation, calibration, feature tracking, and monitoring for data drift.\n"
   ]
  },
  {
   "cell_type": "markdown",
   "metadata": {},
   "source": [
    "---\n",
    "## Exercises (for the intern)\n",
    "Try these small tasks. Solutions appear in the next section.\n",
    "\n",
    "1. **Add a new plot:** create a pairplot of two features (e.g., petal length vs petal width) colored by class.\n",
    "2. **Feature idea:** add a simple derived feature `petal_area = petal length * petal width` and train the model again — does accuracy change?\n",
    "3. **Different metric:** compute macro F1-score instead of accuracy. Does it change model ranking?\n",
    "4. **Bias identification:** suggest one potential source of bias in the iris demo and one concrete mitigation step.\n"
   ]
  },
  {
   "cell_type": "markdown",
   "metadata": {},
   "source": [
    "---\n",
    "## Solutions (answers)\n",
    "Below are short solutions — run them to verify results."
   ]
  },
  {
   "cell_type": "code",
   "execution_count": 11,
   "metadata": {},
   "outputs": [
    {
     "data": {
      "image/png": "[encoded data removed]",
      "text/plain": [
       "<Figure size 600x400 with 1 Axes>"
      ]
     },
     "metadata": {},
     "output_type": "display_data"
    },
    {
     "name": "stdout",
     "output_type": "stream",
     "text": [
      "Accuracy with petal_area: 0.9666666666666667\n",
      "Macro F1 (baseline): 0.9665831244778612\n",
      "Macro F1 (with petal_area): 0.9665831244778612\n",
      "Bias example: sampling bias — iris dataset contains specific species measured in a controlled setting, not a global distribution. Mitigation: collect more diverse samples or validate on field data.\n"
     ]
    }
   ],
   "source": [
    "# Solution 1: pairplot (petal features)\n",
    "plt.figure()\n",
    "sns.scatterplot(data=iris.frame, x='petal length (cm)', y='petal width (cm)', hue='target')\n",
    "plt.title('Petal length vs width by class (pair-like plot)')\n",
    "plt.show()\n",
    "\n",
    "# Solution 2: add petal_area and retrain\n",
    "X2 = X.copy()\n",
    "X2['petal_area'] = X2['petal length (cm)'] * X2['petal width (cm)']\n",
    "X2_train, X2_test, y2_train, y2_test = train_test_split(X2, y, test_size=0.2, random_state=RANDOM_SEED, stratify=y)\n",
    "model2 = LogisticRegression(max_iter=200, random_state=RANDOM_SEED)\n",
    "model2.fit(X2_train, y2_train)\n",
    "print('Accuracy with petal_area:', accuracy_score(y2_test, model2.predict(X2_test)))\n",
    "\n",
    "# Solution 3: compute macro F1\n",
    "from sklearn.metrics import f1_score\n",
    "print('Macro F1 (baseline):', f1_score(y_test, y_pred, average='macro'))\n",
    "print('Macro F1 (with petal_area):', f1_score(y2_test, model2.predict(X2_test), average='macro'))\n",
    "\n",
    "# Solution 4: bias identification (example)\n",
    "print('Bias example: sampling bias — iris dataset contains specific species measured in a controlled setting, not a global distribution. Mitigation: collect more diverse samples or validate on field data.')\n"
   ]
  },
  {
   "cell_type": "markdown",
   "metadata": {},
   "source": [
    "---\n",
    "## Key Takeaways\n",
    "- Data Science combines domain knowledge, statistics, and engineering to produce data-driven outcomes.\n",
    "- The lifecycle (CRISP-DM) helps structure projects from business goals to monitoring.\n",
    "- Teams contain complementary roles (DS, DE, ML Eng, Analysts, PMs).\n",
    "- Ethics and bias should be considered at every phase.\n",
    "- Start with simple baselines, iterate, and document assumptions.\n"
   ]
  },
  {
   "cell_type": "markdown",
   "metadata": {},
   "source": [
    "## Next steps / reading (short list)\n",
    "- CRISP-DM overview: https://en.wikipedia.org/wiki/CRISP-DM\n",
    "- scikit-learn tutorials: https://scikit-learn.org/stable/tutorial/index.html\n",
    "- Model Cards & Datasheets research (ethics): see links above.\n"
   ]
  },
  {
   "cell_type": "markdown",
   "metadata": {},
   "source": [
    "---\n",
    "## README.md (copy into separate README.md file)\n",
    "```\n",
    "01_intro_to_data_science.ipynb — A compact intern-level notebook introducing core DS topics.\n",
    "Requirements: Python 3.10+, pandas, numpy, matplotlib, seaborn, scikit-learn.\n",
    "\n",
    "Run: `jupyter notebook` and open `01_intro_to_data_science.ipynb`. The top cell will install missing packages automatically.\n",
    "\n",
    "Notes: keep outputs stripped before committing (use nbstripout).\n",
    "```"
   ]
  },
  {
   "cell_type": "markdown",
   "id": "bd48fc3f",
   "metadata": {},
   "source": []
  }
 ],
 "metadata": {
  "kernelspec": {
   "display_name": ".venv (3.13.3)",
   "language": "python",
   "name": "python3"
  },
  "language_info": {
   "codemirror_mode": {
    "name": "ipython",
    "version": 3
   },
   "file_extension": ".py",
   "mimetype": "text/x-python",
   "name": "python",
   "nbconvert_exporter": "python",
   "pygments_lexer": "ipython3",
   "version": "3.13.3"
  }
 },
 "nbformat": 4,
 "nbformat_minor": 5
}
